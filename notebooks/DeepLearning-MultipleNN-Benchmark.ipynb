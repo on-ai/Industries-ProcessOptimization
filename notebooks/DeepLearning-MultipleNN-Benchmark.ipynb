{
 "cells": [
  {
   "cell_type": "markdown",
   "metadata": {},
   "source": [
    "# DeepLearning-MultipleNN-Benchmark.ipynb"
   ]
  },
  {
   "cell_type": "code",
   "execution_count": null,
   "metadata": {},
   "outputs": [],
   "source": [
    "\n",
    "from IPython.core.interactiveshell import InteractiveShell\n",
    "InteractiveShell.ast_node_interactivity = \"all\"\n",
    "import pandas as pd"
   ]
  },
  {
   "cell_type": "code",
   "execution_count": null,
   "metadata": {},
   "outputs": [],
   "source": [
    "pd.set_option('display.max_columns', 200)\n"
   ]
  },
  {
   "cell_type": "code",
   "execution_count": null,
   "metadata": {},
   "outputs": [],
   "source": [
    "# New tools to replace df.describe()\n",
    "# !pip iinstall --upgrade pandas\n",
    "!pip install rich\n",
    "!pip install --upgrade jinja2\n",
    "!pip install skimpy\n",
    "!pip install summarytools\n",
    "!pip install --upgrade cookiecutter\n",
    "\n",
    "import rich\n",
    "\n",
    "from skimpy import skim #skim(df)\n",
    "from summarytools import dfSummary #dfSummary(df)\n",
    "\n"
   ]
  },
  {
   "cell_type": "code",
   "execution_count": null,
   "metadata": {},
   "outputs": [],
   "source": [
    "import site\n",
    "print(site.getsitepackages())"
   ]
  },
  {
   "cell_type": "markdown",
   "metadata": {},
   "source": [
    "!pip uninstall jinja2"
   ]
  },
  {
   "cell_type": "code",
   "execution_count": null,
   "metadata": {},
   "outputs": [],
   "source": [
    "!pip install --upgrade jinja2\n",
    "import jinja2\n",
    "print(jinja2.__version__)\n",
    "\n"
   ]
  },
  {
   "cell_type": "code",
   "execution_count": null,
   "metadata": {},
   "outputs": [],
   "source": [
    "def load_random_data():\n",
    "    df = pd.read_csv('../data/random_data.csv')\n",
    "    df.describe()\n",
    "    # X = df[[\"Var1\", \"Var2\", \"Var3\", \"Var4\", \"Var5\", \"Var6\"]]\n",
    "    # y = df[[\"Var7\", \"Var8\", \"Var9\"]]\n",
    "    X = df.iloc[:, [1, 2, 3, 4, 5, 6]]\n",
    "    y = df.iloc[:, [7, 8, 9]]\n",
    "    return X, y"
   ]
  },
  {
   "cell_type": "code",
   "execution_count": null,
   "metadata": {},
   "outputs": [],
   "source": [
    "X, y = load_random_data()\n",
    "print(X)\n"
   ]
  },
  {
   "cell_type": "code",
   "execution_count": null,
   "metadata": {},
   "outputs": [],
   "source": [
    "X.describe()\n",
    "y.describe()"
   ]
  },
  {
   "cell_type": "code",
   "execution_count": null,
   "metadata": {},
   "outputs": [],
   "source": [
    "skim(X)"
   ]
  },
  {
   "cell_type": "code",
   "execution_count": null,
   "metadata": {},
   "outputs": [],
   "source": [
    "dfSummary(X)"
   ]
  },
  {
   "cell_type": "code",
   "execution_count": null,
   "metadata": {},
   "outputs": [],
   "source": [
    "\n",
    "\n",
    "# get the model\n",
    "def get_model(n_inputs, n_outputs, num):\n",
    "\tif num == 0:\n",
    "\t\tlcl_model = Sequential()\n",
    "\t\tlcl_model.add(Dense(20, input_dim=n_inputs, kernel_initializer='he_uniform', activation='relu'))\n",
    "\t\tlcl_model.add(Dense(n_outputs))\n",
    "\t\tlcl_model.compile(loss='mae', optimizer='adam')\n",
    "\telif num == 1:\n",
    "\t\tlcl_model = Sequential()\n",
    "\t\tlcl_model.add(Dense(22, input_dim=n_inputs, kernel_initializer='he_uniform', activation='relu'))\n",
    "\t\tlcl_model.add(Dense(n_outputs))\n",
    "\t\tlcl_model.compile(loss='mae', optimizer='adam')\n",
    "\treturn lcl_model"
   ]
  },
  {
   "cell_type": "code",
   "execution_count": null,
   "metadata": {},
   "outputs": [],
   "source": [
    "! pip install ann_visualizer\n",
    "! pip install graphviz"
   ]
  },
  {
   "cell_type": "code",
   "execution_count": null,
   "metadata": {},
   "outputs": [],
   "source": [
    "# evaluate a model using repeated k-fold cross-validation\n",
    "def evaluate_model(X, y, model_num):\n",
    "\tresults = list()\n",
    "\tmodels = []\n",
    "\n",
    "\t# define evaluation procedure\n",
    "\tcv = RepeatedKFold(n_splits=10, n_repeats=3, random_state=1)\n",
    "\t# enumerate folds\n",
    "\tfor train_ix, test_ix in cv.split(X):\n",
    "\t\t# prepare data\n",
    "\t\tn_inputs, n_outputs = X.shape[1], y.shape[1]\n",
    "\t\tX_train, X_test = X[train_ix], X[test_ix]\n",
    "\t\ty_train, y_test = y[train_ix], y[test_ix]\n",
    "\n",
    "\t\t# define model\n",
    "\t\tmodel = get_model(n_inputs, n_outputs, model_num)\n",
    "\t\t# fit model\n",
    "\t\tmodel.fit(X_train, y_train, verbose=0, epochs=5)\n",
    "\t\t# evaluate model on test set\n",
    "\t\tmae = model.evaluate(X_test, y_test, verbose=0)\n",
    "\t\t# store result\n",
    "\t\t# print('model_num: %d metrics_names: %s mae>%.3f' % (model_num, model.metrics_names, mae))\n",
    "\t\tresults.append(mae)\n",
    "\t\tmodels.append(model)\n",
    "\treturn mean(results), models[0]\n",
    "\n",
    "\n",
    "\n"
   ]
  },
  {
   "cell_type": "code",
   "execution_count": null,
   "metadata": {},
   "outputs": [],
   "source": [
    "from ann_visualizer.visualize import ann_viz;\n",
    "\n",
    "\n",
    "# import os\n",
    "# current_directory = os.getcwd()\n",
    "# print(current_directory)\n",
    "\n",
    "# # Attempt to create a temporary file\n",
    "# try:\n",
    "#     with open('test_file.txt', 'w') as f:\n",
    "#         f.write('This is a test')\n",
    "#     os.remove('test_file.txt')\n",
    "#     print(\"The current folder is not read-only.\")\n",
    "# except Exception as e:\n",
    "#     print(\"The current folder is read-only.\")\n",
    "\n",
    "\n",
    "# import tempfile\n",
    "# tempfile.gettempdir()\n"
   ]
  },
  {
   "cell_type": "code",
   "execution_count": null,
   "metadata": {},
   "outputs": [],
   "source": [
    "# For each test case\n",
    "for test_case in range(3):\n",
    "\t# load dataset\n",
    "\tX, y = load_data(test_case)\n",
    "\n",
    "\t# Let's try each model\n",
    "\tbest_result = 0.0\n",
    "\tbest_model = None\n",
    "\tmodel_to_keep = 0\n",
    "\tfor curr_model in range(max_models):\n",
    "\t\t# evaluate model\n",
    "\t\tresult, model = evaluate_model(X, y, curr_model)\n",
    "\t\tres_lst.append(result)\n",
    "\t\tmodel_lst.append(model)\n",
    "\t\tif result > best_result:\n",
    "\t\t\tbest_result = result\n",
    "\t\t\tbest_model = model\n",
    "\t\t\tmodel_to_keep = curr_model\n",
    "\tfull_file_name = \"../pictures/{}{}\".format(test_case, model_to_keep)\n",
    "\t# graphViz package installed and path added to the PATH environment variable\n",
    "\tann_viz(model, title=\"\", view=False, filename=full_file_name);\n",
    "\t# print(\"Keeping %s\" % (full_file_name))\n",
    "\t# print(\"test_case: %d best_result: %.3f best_model %s\" % (test_case, best_result, best_model))"
   ]
  },
  {
   "cell_type": "code",
   "execution_count": null,
   "metadata": {},
   "outputs": [],
   "source": [
    "# make a prediction for new data\n",
    "row = [-0.99859353,2.19284309,-0.42632569,-0.21043258,-1.13655612,-0.55671602,-0.63169045,-0.87625098,-0.99445578,-0.3677487]\n",
    "newX = asarray([row])\n",
    "yhat = best_model.predict(newX)\n",
    "print('Predicted: %s' % yhat[0])"
   ]
  },
  {
   "cell_type": "code",
   "execution_count": null,
   "metadata": {},
   "outputs": [],
   "source": []
  }
 ],
 "metadata": {
  "kernelspec": {
   "display_name": "Python 3.9.7 ('base')",
   "language": "python",
   "name": "python3"
  },
  "language_info": {
   "codemirror_mode": {
    "name": "ipython",
    "version": 3
   },
   "file_extension": ".py",
   "mimetype": "text/x-python",
   "name": "python",
   "nbconvert_exporter": "python",
   "pygments_lexer": "ipython3",
   "version": "3.9.18"
  },
  "orig_nbformat": 4,
  "vscode": {
   "interpreter": {
    "hash": "49cb93f377a7abe7414b7b0f21fb3017538004a126cf690fb524202736b7fb92"
   }
  }
 },
 "nbformat": 4,
 "nbformat_minor": 2
}
