{
 "cells": [
  {
   "cell_type": "markdown",
   "metadata": {},
   "source": [
    "# DeepLearning-MultipleNN-Benchmark.ipynb"
   ]
  },
  {
   "cell_type": "code",
   "execution_count": 24,
   "metadata": {},
   "outputs": [],
   "source": [
    "\n",
    "from IPython.core.interactiveshell import InteractiveShell\n",
    "InteractiveShell.ast_node_interactivity = \"all\"\n",
    "import pandas as pd"
   ]
  },
  {
   "cell_type": "code",
   "execution_count": 25,
   "metadata": {},
   "outputs": [],
   "source": [
    "pd.set_option('display.max_columns', 200)"
   ]
  },
  {
   "cell_type": "code",
   "execution_count": 54,
   "metadata": {},
   "outputs": [
    {
     "name": "stdout",
     "output_type": "stream",
     "text": [
      "Requirement already satisfied: jinja2 in d:\\anaconda3\\lib\\site-packages (3.1.3)\n",
      "Requirement already satisfied: MarkupSafe>=2.0 in d:\\anaconda3\\lib\\site-packages (from jinja2) (2.1.5)\n",
      "Requirement already satisfied: cookiecutter in d:\\anaconda3\\lib\\site-packages (2.5.0)\n",
      "Requirement already satisfied: pyyaml>=5.3.1 in d:\\anaconda3\\lib\\site-packages (from cookiecutter) (6.0)\n",
      "Requirement already satisfied: Jinja2<4.0.0,>=2.7 in d:\\anaconda3\\lib\\site-packages (from cookiecutter) (3.1.3)\n",
      "Requirement already satisfied: click<9.0.0,>=7.0 in d:\\anaconda3\\lib\\site-packages (from cookiecutter) (8.1.7)\n",
      "Requirement already satisfied: arrow in d:\\anaconda3\\lib\\site-packages (from cookiecutter) (0.13.1)\n",
      "Requirement already satisfied: requests>=2.23.0 in d:\\anaconda3\\lib\\site-packages (from cookiecutter) (2.26.0)\n",
      "Requirement already satisfied: rich in d:\\anaconda3\\lib\\site-packages (from cookiecutter) (13.7.0)\n",
      "Requirement already satisfied: python-slugify>=4.0.0 in d:\\anaconda3\\lib\\site-packages (from cookiecutter) (5.0.2)\n",
      "Requirement already satisfied: binaryornot>=0.4.4 in d:\\anaconda3\\lib\\site-packages (from cookiecutter) (0.4.4)\n",
      "Requirement already satisfied: chardet>=3.0.2 in d:\\anaconda3\\lib\\site-packages (from binaryornot>=0.4.4->cookiecutter) (4.0.0)\n",
      "Requirement already satisfied: colorama in d:\\anaconda3\\lib\\site-packages (from click<9.0.0,>=7.0->cookiecutter) (0.4.4)\n",
      "Requirement already satisfied: MarkupSafe>=2.0 in d:\\anaconda3\\lib\\site-packages (from Jinja2<4.0.0,>=2.7->cookiecutter) (2.1.5)\n",
      "Requirement already satisfied: text-unidecode>=1.3 in d:\\anaconda3\\lib\\site-packages (from python-slugify>=4.0.0->cookiecutter) (1.3)\n",
      "Requirement already satisfied: idna<4,>=2.5 in d:\\anaconda3\\lib\\site-packages (from requests>=2.23.0->cookiecutter) (3.2)\n",
      "Requirement already satisfied: charset-normalizer~=2.0.0 in d:\\anaconda3\\lib\\site-packages (from requests>=2.23.0->cookiecutter) (2.0.4)\n",
      "Requirement already satisfied: urllib3<1.27,>=1.21.1 in d:\\anaconda3\\lib\\site-packages (from requests>=2.23.0->cookiecutter) (1.26.7)\n",
      "Requirement already satisfied: certifi>=2017.4.17 in d:\\anaconda3\\lib\\site-packages (from requests>=2.23.0->cookiecutter) (2021.10.8)\n",
      "Requirement already satisfied: python-dateutil in d:\\anaconda3\\lib\\site-packages (from arrow->cookiecutter) (2.8.2)\n",
      "Requirement already satisfied: six>=1.5 in d:\\anaconda3\\lib\\site-packages (from python-dateutil->arrow->cookiecutter) (1.16.0)\n",
      "Requirement already satisfied: markdown-it-py>=2.2.0 in d:\\anaconda3\\lib\\site-packages (from rich->cookiecutter) (3.0.0)\n",
      "Requirement already satisfied: pygments<3.0.0,>=2.13.0 in d:\\anaconda3\\lib\\site-packages (from rich->cookiecutter) (2.17.2)\n",
      "Requirement already satisfied: mdurl~=0.1 in d:\\anaconda3\\lib\\site-packages (from markdown-it-py>=2.2.0->rich->cookiecutter) (0.1.2)\n"
     ]
    }
   ],
   "source": [
    "# New tools to replace df.describe()\n",
    "# !pip iinstall --upgrade pandas\n",
    "!pip install --upgrade jinja2\n",
    "!pip install skimpy\n",
    "!pip install summarytools\n",
    "!pip install --upgrade cookiecutter\n",
    "\n",
    "from skimpy import skim #skim(df)\n",
    "from summarytools import dfSummary #dfSummary(df)\n",
    "\n"
   ]
  },
  {
   "cell_type": "code",
   "execution_count": 60,
   "metadata": {},
   "outputs": [
    {
     "name": "stdout",
     "output_type": "stream",
     "text": [
      "['d:\\\\anaconda3', 'd:\\\\anaconda3\\\\lib\\\\site-packages']\n"
     ]
    }
   ],
   "source": [
    "import site\n",
    "print(site.getsitepackages())"
   ]
  },
  {
   "cell_type": "code",
   "execution_count": 67,
   "metadata": {},
   "outputs": [
    {
     "name": "stdout",
     "output_type": "stream",
     "text": [
      "^C\n"
     ]
    }
   ],
   "source": [
    "!pip uninstall jinja2"
   ]
  },
  {
   "cell_type": "code",
   "execution_count": 66,
   "metadata": {},
   "outputs": [
    {
     "name": "stdout",
     "output_type": "stream",
     "text": [
      "Requirement already satisfied: jinja2 in d:\\anaconda3\\lib\\site-packages (3.1.3)\n",
      "Requirement already satisfied: MarkupSafe>=2.0 in d:\\anaconda3\\lib\\site-packages (from jinja2) (2.1.5)\n",
      "2.11.3\n"
     ]
    }
   ],
   "source": [
    "import jinja2\n",
    "!pip install --upgrade jinja2\n",
    "print(jinja2.__version__)\n",
    "\n"
   ]
  },
  {
   "cell_type": "code",
   "execution_count": 55,
   "metadata": {},
   "outputs": [],
   "source": [
    "def load_random_data():\n",
    "    df = pd.read_csv('../data/random_data.csv')\n",
    "    df.describe()\n",
    "    # X = df[[\"Var1\", \"Var2\", \"Var3\", \"Var4\", \"Var5\", \"Var6\"]]\n",
    "    # y = df[[\"Var7\", \"Var8\", \"Var9\"]]\n",
    "    X = df.iloc[:, [1, 2, 3, 4, 5, 6]]\n",
    "    y = df.iloc[:, [7, 8, 9]]\n",
    "    return X, y"
   ]
  },
  {
   "cell_type": "code",
   "execution_count": 56,
   "metadata": {},
   "outputs": [
    {
     "name": "stdout",
     "output_type": "stream",
     "text": [
      "       Pressure1 Pa    Temp1 F  Volume CHl ml   Volume H  Temp2 F Pa  \\\n",
      "0         91.087434  39.864819      94.533831  23.519002   15.557122   \n",
      "1         26.755208  41.457707      86.098518  69.401762   56.662135   \n",
      "2         65.928750  72.663652      90.846095  53.697473   15.908884   \n",
      "3         80.638414  99.958049      54.226406  35.600008   17.925490   \n",
      "4         63.690542  12.389213      14.569177  54.763162   62.684269   \n",
      "...             ...        ...            ...        ...         ...   \n",
      "49995     54.323483  83.156088      90.817702  42.445582   49.467169   \n",
      "49996     10.659372  92.898381      39.085339  93.693232   40.440018   \n",
      "49997     75.212513  23.070750      75.647151  93.091665   73.423704   \n",
      "49998     60.275092  45.970639      29.280295  48.306086   50.572172   \n",
      "49999     71.339273  24.745848      30.504205  73.775459   77.697171   \n",
      "\n",
      "              NA  \n",
      "0      43.935737  \n",
      "1      95.901093  \n",
      "2      95.309811  \n",
      "3      97.182250  \n",
      "4      73.742890  \n",
      "...          ...  \n",
      "49995  50.106831  \n",
      "49996  71.359043  \n",
      "49997  16.066003  \n",
      "49998  33.076289  \n",
      "49999  78.159745  \n",
      "\n",
      "[50000 rows x 6 columns]\n"
     ]
    }
   ],
   "source": [
    "X, y = load_random_data()\n",
    "print(X)\n"
   ]
  },
  {
   "cell_type": "code",
   "execution_count": 57,
   "metadata": {},
   "outputs": [
    {
     "data": {
      "text/html": [
       "<div>\n",
       "<style scoped>\n",
       "    .dataframe tbody tr th:only-of-type {\n",
       "        vertical-align: middle;\n",
       "    }\n",
       "\n",
       "    .dataframe tbody tr th {\n",
       "        vertical-align: top;\n",
       "    }\n",
       "\n",
       "    .dataframe thead th {\n",
       "        text-align: right;\n",
       "    }\n",
       "</style>\n",
       "<table border=\"1\" class=\"dataframe\">\n",
       "  <thead>\n",
       "    <tr style=\"text-align: right;\">\n",
       "      <th></th>\n",
       "      <th>Pressure1 Pa</th>\n",
       "      <th>Temp1 F</th>\n",
       "      <th>Volume CHl ml</th>\n",
       "      <th>Volume H</th>\n",
       "      <th>Temp2 F Pa</th>\n",
       "      <th>NA</th>\n",
       "    </tr>\n",
       "  </thead>\n",
       "  <tbody>\n",
       "    <tr>\n",
       "      <th>count</th>\n",
       "      <td>50000.000000</td>\n",
       "      <td>50000.000000</td>\n",
       "      <td>50000.000000</td>\n",
       "      <td>50000.000000</td>\n",
       "      <td>50000.000000</td>\n",
       "      <td>50000.000000</td>\n",
       "    </tr>\n",
       "    <tr>\n",
       "      <th>mean</th>\n",
       "      <td>54.978093</td>\n",
       "      <td>55.000467</td>\n",
       "      <td>54.949093</td>\n",
       "      <td>54.918309</td>\n",
       "      <td>54.963046</td>\n",
       "      <td>54.823630</td>\n",
       "    </tr>\n",
       "    <tr>\n",
       "      <th>std</th>\n",
       "      <td>25.914315</td>\n",
       "      <td>25.983661</td>\n",
       "      <td>26.054363</td>\n",
       "      <td>25.983086</td>\n",
       "      <td>25.967133</td>\n",
       "      <td>25.920099</td>\n",
       "    </tr>\n",
       "    <tr>\n",
       "      <th>min</th>\n",
       "      <td>10.000000</td>\n",
       "      <td>10.000000</td>\n",
       "      <td>10.000000</td>\n",
       "      <td>10.000000</td>\n",
       "      <td>10.000000</td>\n",
       "      <td>10.000000</td>\n",
       "    </tr>\n",
       "    <tr>\n",
       "      <th>25%</th>\n",
       "      <td>32.590182</td>\n",
       "      <td>32.564499</td>\n",
       "      <td>32.252361</td>\n",
       "      <td>32.415523</td>\n",
       "      <td>32.450702</td>\n",
       "      <td>32.381331</td>\n",
       "    </tr>\n",
       "    <tr>\n",
       "      <th>50%</th>\n",
       "      <td>54.970287</td>\n",
       "      <td>55.045788</td>\n",
       "      <td>54.938299</td>\n",
       "      <td>54.857089</td>\n",
       "      <td>54.953563</td>\n",
       "      <td>54.795728</td>\n",
       "    </tr>\n",
       "    <tr>\n",
       "      <th>75%</th>\n",
       "      <td>77.364455</td>\n",
       "      <td>77.511768</td>\n",
       "      <td>77.485732</td>\n",
       "      <td>77.455031</td>\n",
       "      <td>77.456035</td>\n",
       "      <td>77.112155</td>\n",
       "    </tr>\n",
       "    <tr>\n",
       "      <th>max</th>\n",
       "      <td>100.000000</td>\n",
       "      <td>100.000000</td>\n",
       "      <td>100.000000</td>\n",
       "      <td>100.000000</td>\n",
       "      <td>100.000000</td>\n",
       "      <td>100.000000</td>\n",
       "    </tr>\n",
       "  </tbody>\n",
       "</table>\n",
       "</div>"
      ],
      "text/plain": [
       "       Pressure1 Pa       Temp1 F  Volume CHl ml      Volume H    Temp2 F Pa  \\\n",
       "count  50000.000000  50000.000000   50000.000000  50000.000000  50000.000000   \n",
       "mean      54.978093     55.000467      54.949093     54.918309     54.963046   \n",
       "std       25.914315     25.983661      26.054363     25.983086     25.967133   \n",
       "min       10.000000     10.000000      10.000000     10.000000     10.000000   \n",
       "25%       32.590182     32.564499      32.252361     32.415523     32.450702   \n",
       "50%       54.970287     55.045788      54.938299     54.857089     54.953563   \n",
       "75%       77.364455     77.511768      77.485732     77.455031     77.456035   \n",
       "max      100.000000    100.000000     100.000000    100.000000    100.000000   \n",
       "\n",
       "                 NA  \n",
       "count  50000.000000  \n",
       "mean      54.823630  \n",
       "std       25.920099  \n",
       "min       10.000000  \n",
       "25%       32.381331  \n",
       "50%       54.795728  \n",
       "75%       77.112155  \n",
       "max      100.000000  "
      ]
     },
     "execution_count": 57,
     "metadata": {},
     "output_type": "execute_result"
    },
    {
     "data": {
      "text/html": [
       "<div>\n",
       "<style scoped>\n",
       "    .dataframe tbody tr th:only-of-type {\n",
       "        vertical-align: middle;\n",
       "    }\n",
       "\n",
       "    .dataframe tbody tr th {\n",
       "        vertical-align: top;\n",
       "    }\n",
       "\n",
       "    .dataframe thead th {\n",
       "        text-align: right;\n",
       "    }\n",
       "</style>\n",
       "<table border=\"1\" class=\"dataframe\">\n",
       "  <thead>\n",
       "    <tr style=\"text-align: right;\">\n",
       "      <th></th>\n",
       "      <th>H2O ml</th>\n",
       "      <th>Pressure Pa</th>\n",
       "      <th>Temp3 F</th>\n",
       "    </tr>\n",
       "  </thead>\n",
       "  <tbody>\n",
       "    <tr>\n",
       "      <th>count</th>\n",
       "      <td>50000.000000</td>\n",
       "      <td>50000.000000</td>\n",
       "      <td>50000.000000</td>\n",
       "    </tr>\n",
       "    <tr>\n",
       "      <th>mean</th>\n",
       "      <td>5.511801</td>\n",
       "      <td>5.513420</td>\n",
       "      <td>5.508027</td>\n",
       "    </tr>\n",
       "    <tr>\n",
       "      <th>std</th>\n",
       "      <td>2.596699</td>\n",
       "      <td>2.597792</td>\n",
       "      <td>2.592216</td>\n",
       "    </tr>\n",
       "    <tr>\n",
       "      <th>min</th>\n",
       "      <td>1.000000</td>\n",
       "      <td>1.000000</td>\n",
       "      <td>1.000000</td>\n",
       "    </tr>\n",
       "    <tr>\n",
       "      <th>25%</th>\n",
       "      <td>3.261652</td>\n",
       "      <td>3.266749</td>\n",
       "      <td>3.264450</td>\n",
       "    </tr>\n",
       "    <tr>\n",
       "      <th>50%</th>\n",
       "      <td>5.513795</td>\n",
       "      <td>5.520475</td>\n",
       "      <td>5.521938</td>\n",
       "    </tr>\n",
       "    <tr>\n",
       "      <th>75%</th>\n",
       "      <td>7.761122</td>\n",
       "      <td>7.764066</td>\n",
       "      <td>7.758519</td>\n",
       "    </tr>\n",
       "    <tr>\n",
       "      <th>max</th>\n",
       "      <td>10.000000</td>\n",
       "      <td>10.000000</td>\n",
       "      <td>10.000000</td>\n",
       "    </tr>\n",
       "  </tbody>\n",
       "</table>\n",
       "</div>"
      ],
      "text/plain": [
       "             H2O ml   Pressure Pa       Temp3 F\n",
       "count  50000.000000  50000.000000  50000.000000\n",
       "mean       5.511801      5.513420      5.508027\n",
       "std        2.596699      2.597792      2.592216\n",
       "min        1.000000      1.000000      1.000000\n",
       "25%        3.261652      3.266749      3.264450\n",
       "50%        5.513795      5.520475      5.521938\n",
       "75%        7.761122      7.764066      7.758519\n",
       "max       10.000000     10.000000     10.000000"
      ]
     },
     "execution_count": 57,
     "metadata": {},
     "output_type": "execute_result"
    }
   ],
   "source": [
    "X.describe()\n",
    "y.describe()"
   ]
  },
  {
   "cell_type": "code",
   "execution_count": 58,
   "metadata": {},
   "outputs": [
    {
     "data": {
      "text/html": [
       "<pre style=\"white-space:pre;overflow-x:auto;line-height:normal;font-family:Menlo,'DejaVu Sans Mono',consolas,'Courier New',monospace\">╭──────────────────────────────────────────────── skimpy summary ─────────────────────────────────────────────────╮\n",
       "│ <span style=\"font-style: italic\">         Data Summary         </span> <span style=\"font-style: italic\">      Data Types       </span>                                                          │\n",
       "│ ┏━━━━━━━━━━━━━━━━━━━┳━━━━━━━━┓ ┏━━━━━━━━━━━━━┳━━━━━━━┓                                                          │\n",
       "│ ┃<span style=\"color: #008080; text-decoration-color: #008080; font-weight: bold\"> dataframe         </span>┃<span style=\"color: #008080; text-decoration-color: #008080; font-weight: bold\"> Values </span>┃ ┃<span style=\"color: #008080; text-decoration-color: #008080; font-weight: bold\"> Column Type </span>┃<span style=\"color: #008080; text-decoration-color: #008080; font-weight: bold\"> Count </span>┃                                                          │\n",
       "│ ┡━━━━━━━━━━━━━━━━━━━╇━━━━━━━━┩ ┡━━━━━━━━━━━━━╇━━━━━━━┩                                                          │\n",
       "│ │ Number of rows    │ 50000  │ │ float64     │ 6     │                                                          │\n",
       "│ │ Number of columns │ 6      │ └─────────────┴───────┘                                                          │\n",
       "│ └───────────────────┴────────┘                                                                                  │\n",
       "│ <span style=\"font-style: italic\">                                                    number                                                    </span>  │\n",
       "│ ┏━━━━━━━━━━━━━━━━━━━━━━┳━━━━━━┳━━━━━━━━━┳━━━━━━━━━┳━━━━━━┳━━━━━━┳━━━━━━━┳━━━━━━━┳━━━━━━━┳━━━━━━━━━┳━━━━━━━━━━┓  │\n",
       "│ ┃<span style=\"font-weight: bold\"> column_name          </span>┃<span style=\"font-weight: bold\"> NA   </span>┃<span style=\"font-weight: bold\"> NA %    </span>┃<span style=\"font-weight: bold\"> mean    </span>┃<span style=\"font-weight: bold\"> sd   </span>┃<span style=\"font-weight: bold\"> p0   </span>┃<span style=\"font-weight: bold\"> p25   </span>┃<span style=\"font-weight: bold\"> p50   </span>┃<span style=\"font-weight: bold\"> p75   </span>┃<span style=\"font-weight: bold\"> p100    </span>┃<span style=\"font-weight: bold\"> hist     </span>┃  │\n",
       "│ ┡━━━━━━━━━━━━━━━━━━━━━━╇━━━━━━╇━━━━━━━━━╇━━━━━━━━━╇━━━━━━╇━━━━━━╇━━━━━━━╇━━━━━━━╇━━━━━━━╇━━━━━━━━━╇━━━━━━━━━━┩  │\n",
       "│ │ <span style=\"color: #af87ff; text-decoration-color: #af87ff\">Pressure1 Pa        </span> │ <span style=\"color: #008080; text-decoration-color: #008080\">   0</span> │ <span style=\"color: #008080; text-decoration-color: #008080\">      0</span> │ <span style=\"color: #008080; text-decoration-color: #008080\">     55</span> │ <span style=\"color: #008080; text-decoration-color: #008080\">  26</span> │ <span style=\"color: #008080; text-decoration-color: #008080\">  10</span> │ <span style=\"color: #008080; text-decoration-color: #008080\">   33</span> │ <span style=\"color: #008080; text-decoration-color: #008080\">   55</span> │ <span style=\"color: #008080; text-decoration-color: #008080\">   77</span> │ <span style=\"color: #008080; text-decoration-color: #008080\">    100</span> │ <span style=\"color: #008000; text-decoration-color: #008000\"> ▇▇▇▇▇▇ </span> │  │\n",
       "│ │ <span style=\"color: #af87ff; text-decoration-color: #af87ff\">Temp1 F             </span> │ <span style=\"color: #008080; text-decoration-color: #008080\">   0</span> │ <span style=\"color: #008080; text-decoration-color: #008080\">      0</span> │ <span style=\"color: #008080; text-decoration-color: #008080\">     55</span> │ <span style=\"color: #008080; text-decoration-color: #008080\">  26</span> │ <span style=\"color: #008080; text-decoration-color: #008080\">  10</span> │ <span style=\"color: #008080; text-decoration-color: #008080\">   33</span> │ <span style=\"color: #008080; text-decoration-color: #008080\">   55</span> │ <span style=\"color: #008080; text-decoration-color: #008080\">   78</span> │ <span style=\"color: #008080; text-decoration-color: #008080\">    100</span> │ <span style=\"color: #008000; text-decoration-color: #008000\"> ▇▇▇▇▇▇ </span> │  │\n",
       "│ │ <span style=\"color: #af87ff; text-decoration-color: #af87ff\">Volume CHl ml       </span> │ <span style=\"color: #008080; text-decoration-color: #008080\">   0</span> │ <span style=\"color: #008080; text-decoration-color: #008080\">      0</span> │ <span style=\"color: #008080; text-decoration-color: #008080\">     55</span> │ <span style=\"color: #008080; text-decoration-color: #008080\">  26</span> │ <span style=\"color: #008080; text-decoration-color: #008080\">  10</span> │ <span style=\"color: #008080; text-decoration-color: #008080\">   32</span> │ <span style=\"color: #008080; text-decoration-color: #008080\">   55</span> │ <span style=\"color: #008080; text-decoration-color: #008080\">   77</span> │ <span style=\"color: #008080; text-decoration-color: #008080\">    100</span> │ <span style=\"color: #008000; text-decoration-color: #008000\"> ▇▇▇▇▇▇ </span> │  │\n",
       "│ │ <span style=\"color: #af87ff; text-decoration-color: #af87ff\">Volume H            </span> │ <span style=\"color: #008080; text-decoration-color: #008080\">   0</span> │ <span style=\"color: #008080; text-decoration-color: #008080\">      0</span> │ <span style=\"color: #008080; text-decoration-color: #008080\">     55</span> │ <span style=\"color: #008080; text-decoration-color: #008080\">  26</span> │ <span style=\"color: #008080; text-decoration-color: #008080\">  10</span> │ <span style=\"color: #008080; text-decoration-color: #008080\">   32</span> │ <span style=\"color: #008080; text-decoration-color: #008080\">   55</span> │ <span style=\"color: #008080; text-decoration-color: #008080\">   77</span> │ <span style=\"color: #008080; text-decoration-color: #008080\">    100</span> │ <span style=\"color: #008000; text-decoration-color: #008000\"> ▇▇▇▇▇▇ </span> │  │\n",
       "│ │ <span style=\"color: #af87ff; text-decoration-color: #af87ff\">Temp2 F Pa          </span> │ <span style=\"color: #008080; text-decoration-color: #008080\">   0</span> │ <span style=\"color: #008080; text-decoration-color: #008080\">      0</span> │ <span style=\"color: #008080; text-decoration-color: #008080\">     55</span> │ <span style=\"color: #008080; text-decoration-color: #008080\">  26</span> │ <span style=\"color: #008080; text-decoration-color: #008080\">  10</span> │ <span style=\"color: #008080; text-decoration-color: #008080\">   32</span> │ <span style=\"color: #008080; text-decoration-color: #008080\">   55</span> │ <span style=\"color: #008080; text-decoration-color: #008080\">   77</span> │ <span style=\"color: #008080; text-decoration-color: #008080\">    100</span> │ <span style=\"color: #008000; text-decoration-color: #008000\"> ▇▇▇▇▇▇ </span> │  │\n",
       "│ │ <span style=\"color: #af87ff; text-decoration-color: #af87ff\">NA                  </span> │ <span style=\"color: #008080; text-decoration-color: #008080\">   0</span> │ <span style=\"color: #008080; text-decoration-color: #008080\">      0</span> │ <span style=\"color: #008080; text-decoration-color: #008080\">     55</span> │ <span style=\"color: #008080; text-decoration-color: #008080\">  26</span> │ <span style=\"color: #008080; text-decoration-color: #008080\">  10</span> │ <span style=\"color: #008080; text-decoration-color: #008080\">   32</span> │ <span style=\"color: #008080; text-decoration-color: #008080\">   55</span> │ <span style=\"color: #008080; text-decoration-color: #008080\">   77</span> │ <span style=\"color: #008080; text-decoration-color: #008080\">    100</span> │ <span style=\"color: #008000; text-decoration-color: #008000\"> ▇▇▇▇▇▇ </span> │  │\n",
       "│ └──────────────────────┴──────┴─────────┴─────────┴──────┴──────┴───────┴───────┴───────┴─────────┴──────────┘  │\n",
       "╰────────────────────────────────────────────────────── End ──────────────────────────────────────────────────────╯\n",
       "</pre>\n"
      ],
      "text/plain": [
       "╭──────────────────────────────────────────────── skimpy summary ─────────────────────────────────────────────────╮\n",
       "│ \u001b[3m         Data Summary         \u001b[0m \u001b[3m      Data Types       \u001b[0m                                                          │\n",
       "│ ┏━━━━━━━━━━━━━━━━━━━┳━━━━━━━━┓ ┏━━━━━━━━━━━━━┳━━━━━━━┓                                                          │\n",
       "│ ┃\u001b[1;36m \u001b[0m\u001b[1;36mdataframe        \u001b[0m\u001b[1;36m \u001b[0m┃\u001b[1;36m \u001b[0m\u001b[1;36mValues\u001b[0m\u001b[1;36m \u001b[0m┃ ┃\u001b[1;36m \u001b[0m\u001b[1;36mColumn Type\u001b[0m\u001b[1;36m \u001b[0m┃\u001b[1;36m \u001b[0m\u001b[1;36mCount\u001b[0m\u001b[1;36m \u001b[0m┃                                                          │\n",
       "│ ┡━━━━━━━━━━━━━━━━━━━╇━━━━━━━━┩ ┡━━━━━━━━━━━━━╇━━━━━━━┩                                                          │\n",
       "│ │ Number of rows    │ 50000  │ │ float64     │ 6     │                                                          │\n",
       "│ │ Number of columns │ 6      │ └─────────────┴───────┘                                                          │\n",
       "│ └───────────────────┴────────┘                                                                                  │\n",
       "│ \u001b[3m                                                    number                                                    \u001b[0m  │\n",
       "│ ┏━━━━━━━━━━━━━━━━━━━━━━┳━━━━━━┳━━━━━━━━━┳━━━━━━━━━┳━━━━━━┳━━━━━━┳━━━━━━━┳━━━━━━━┳━━━━━━━┳━━━━━━━━━┳━━━━━━━━━━┓  │\n",
       "│ ┃\u001b[1m \u001b[0m\u001b[1mcolumn_name         \u001b[0m\u001b[1m \u001b[0m┃\u001b[1m \u001b[0m\u001b[1mNA  \u001b[0m\u001b[1m \u001b[0m┃\u001b[1m \u001b[0m\u001b[1mNA %   \u001b[0m\u001b[1m \u001b[0m┃\u001b[1m \u001b[0m\u001b[1mmean   \u001b[0m\u001b[1m \u001b[0m┃\u001b[1m \u001b[0m\u001b[1msd  \u001b[0m\u001b[1m \u001b[0m┃\u001b[1m \u001b[0m\u001b[1mp0  \u001b[0m\u001b[1m \u001b[0m┃\u001b[1m \u001b[0m\u001b[1mp25  \u001b[0m\u001b[1m \u001b[0m┃\u001b[1m \u001b[0m\u001b[1mp50  \u001b[0m\u001b[1m \u001b[0m┃\u001b[1m \u001b[0m\u001b[1mp75  \u001b[0m\u001b[1m \u001b[0m┃\u001b[1m \u001b[0m\u001b[1mp100   \u001b[0m\u001b[1m \u001b[0m┃\u001b[1m \u001b[0m\u001b[1mhist    \u001b[0m\u001b[1m \u001b[0m┃  │\n",
       "│ ┡━━━━━━━━━━━━━━━━━━━━━━╇━━━━━━╇━━━━━━━━━╇━━━━━━━━━╇━━━━━━╇━━━━━━╇━━━━━━━╇━━━━━━━╇━━━━━━━╇━━━━━━━━━╇━━━━━━━━━━┩  │\n",
       "│ │ \u001b[38;5;141mPressure1 Pa        \u001b[0m │ \u001b[36m   0\u001b[0m │ \u001b[36m      0\u001b[0m │ \u001b[36m     55\u001b[0m │ \u001b[36m  26\u001b[0m │ \u001b[36m  10\u001b[0m │ \u001b[36m   33\u001b[0m │ \u001b[36m   55\u001b[0m │ \u001b[36m   77\u001b[0m │ \u001b[36m    100\u001b[0m │ \u001b[32m ▇▇▇▇▇▇ \u001b[0m │  │\n",
       "│ │ \u001b[38;5;141mTemp1 F             \u001b[0m │ \u001b[36m   0\u001b[0m │ \u001b[36m      0\u001b[0m │ \u001b[36m     55\u001b[0m │ \u001b[36m  26\u001b[0m │ \u001b[36m  10\u001b[0m │ \u001b[36m   33\u001b[0m │ \u001b[36m   55\u001b[0m │ \u001b[36m   78\u001b[0m │ \u001b[36m    100\u001b[0m │ \u001b[32m ▇▇▇▇▇▇ \u001b[0m │  │\n",
       "│ │ \u001b[38;5;141mVolume CHl ml       \u001b[0m │ \u001b[36m   0\u001b[0m │ \u001b[36m      0\u001b[0m │ \u001b[36m     55\u001b[0m │ \u001b[36m  26\u001b[0m │ \u001b[36m  10\u001b[0m │ \u001b[36m   32\u001b[0m │ \u001b[36m   55\u001b[0m │ \u001b[36m   77\u001b[0m │ \u001b[36m    100\u001b[0m │ \u001b[32m ▇▇▇▇▇▇ \u001b[0m │  │\n",
       "│ │ \u001b[38;5;141mVolume H            \u001b[0m │ \u001b[36m   0\u001b[0m │ \u001b[36m      0\u001b[0m │ \u001b[36m     55\u001b[0m │ \u001b[36m  26\u001b[0m │ \u001b[36m  10\u001b[0m │ \u001b[36m   32\u001b[0m │ \u001b[36m   55\u001b[0m │ \u001b[36m   77\u001b[0m │ \u001b[36m    100\u001b[0m │ \u001b[32m ▇▇▇▇▇▇ \u001b[0m │  │\n",
       "│ │ \u001b[38;5;141mTemp2 F Pa          \u001b[0m │ \u001b[36m   0\u001b[0m │ \u001b[36m      0\u001b[0m │ \u001b[36m     55\u001b[0m │ \u001b[36m  26\u001b[0m │ \u001b[36m  10\u001b[0m │ \u001b[36m   32\u001b[0m │ \u001b[36m   55\u001b[0m │ \u001b[36m   77\u001b[0m │ \u001b[36m    100\u001b[0m │ \u001b[32m ▇▇▇▇▇▇ \u001b[0m │  │\n",
       "│ │ \u001b[38;5;141mNA                  \u001b[0m │ \u001b[36m   0\u001b[0m │ \u001b[36m      0\u001b[0m │ \u001b[36m     55\u001b[0m │ \u001b[36m  26\u001b[0m │ \u001b[36m  10\u001b[0m │ \u001b[36m   32\u001b[0m │ \u001b[36m   55\u001b[0m │ \u001b[36m   77\u001b[0m │ \u001b[36m    100\u001b[0m │ \u001b[32m ▇▇▇▇▇▇ \u001b[0m │  │\n",
       "│ └──────────────────────┴──────┴─────────┴─────────┴──────┴──────┴───────┴───────┴───────┴─────────┴──────────┘  │\n",
       "╰────────────────────────────────────────────────────── End ──────────────────────────────────────────────────────╯\n"
      ]
     },
     "metadata": {},
     "output_type": "display_data"
    }
   ],
   "source": [
    "skim(X)"
   ]
  },
  {
   "cell_type": "code",
   "execution_count": 59,
   "metadata": {},
   "outputs": [
    {
     "ename": "ImportError",
     "evalue": "Pandas requires version '3.1.2' or newer of 'jinja2' (version '2.11.3' currently installed).",
     "output_type": "error",
     "traceback": [
      "\u001b[1;31m---------------------------------------------------------------------------\u001b[0m",
      "\u001b[1;31mImportError\u001b[0m                               Traceback (most recent call last)",
      "\u001b[1;32m~\\AppData\\Local\\Temp/ipykernel_25904/2562642229.py\u001b[0m in \u001b[0;36m<module>\u001b[1;34m\u001b[0m\n\u001b[1;32m----> 1\u001b[1;33m \u001b[0mdfSummary\u001b[0m\u001b[1;33m(\u001b[0m\u001b[0mX\u001b[0m\u001b[1;33m)\u001b[0m\u001b[1;33m\u001b[0m\u001b[1;33m\u001b[0m\u001b[0m\n\u001b[0m",
      "\u001b[1;32md:\\anaconda3\\lib\\site-packages\\summarytools\\summarytools.py\u001b[0m in \u001b[0;36mdfSummary\u001b[1;34m(data, max_level, show_graph, tmp_dir, is_collapsible)\u001b[0m\n\u001b[0;32m    220\u001b[0m \u001b[1;33m\u001b[0m\u001b[0m\n\u001b[0;32m    221\u001b[0m     \u001b[1;31m# styles\u001b[0m\u001b[1;33m\u001b[0m\u001b[1;33m\u001b[0m\u001b[0m\n\u001b[1;32m--> 222\u001b[1;33m     out = (out.style\n\u001b[0m\u001b[0;32m    223\u001b[0m            .set_properties(**{'text-align': 'left',\n\u001b[0;32m    224\u001b[0m                 \u001b[1;34m'font-size'\u001b[0m\u001b[1;33m:\u001b[0m\u001b[1;34m'12px'\u001b[0m\u001b[1;33m,\u001b[0m\u001b[1;33m\u001b[0m\u001b[1;33m\u001b[0m\u001b[0m\n",
      "\u001b[1;32md:\\anaconda3\\lib\\site-packages\\pandas\\core\\frame.py\u001b[0m in \u001b[0;36mstyle\u001b[1;34m(self)\u001b[0m\n\u001b[0;32m   1428\u001b[0m         \u001b[0;31m`\u001b[0m\u001b[0mTable\u001b[0m \u001b[0mVisualization\u001b[0m \u001b[1;33m<\u001b[0m\u001b[1;33m.\u001b[0m\u001b[1;33m.\u001b[0m\u001b[1;33m/\u001b[0m\u001b[1;33m.\u001b[0m\u001b[1;33m.\u001b[0m\u001b[1;33m/\u001b[0m\u001b[0muser_guide\u001b[0m\u001b[1;33m/\u001b[0m\u001b[0mstyle\u001b[0m\u001b[1;33m.\u001b[0m\u001b[0mipynb\u001b[0m\u001b[1;33m>\u001b[0m\u001b[0;31m`\u001b[0m\u001b[0m_\u001b[0m \u001b[1;32mfor\u001b[0m \u001b[0mmore\u001b[0m \u001b[0mexamples\u001b[0m\u001b[1;33m.\u001b[0m\u001b[1;33m\u001b[0m\u001b[1;33m\u001b[0m\u001b[0m\n\u001b[0;32m   1429\u001b[0m         \"\"\"\n\u001b[1;32m-> 1430\u001b[1;33m         \u001b[1;32mfrom\u001b[0m \u001b[0mpandas\u001b[0m\u001b[1;33m.\u001b[0m\u001b[0mio\u001b[0m\u001b[1;33m.\u001b[0m\u001b[0mformats\u001b[0m\u001b[1;33m.\u001b[0m\u001b[0mstyle\u001b[0m \u001b[1;32mimport\u001b[0m \u001b[0mStyler\u001b[0m\u001b[1;33m\u001b[0m\u001b[1;33m\u001b[0m\u001b[0m\n\u001b[0m\u001b[0;32m   1431\u001b[0m \u001b[1;33m\u001b[0m\u001b[0m\n\u001b[0;32m   1432\u001b[0m         \u001b[1;32mreturn\u001b[0m \u001b[0mStyler\u001b[0m\u001b[1;33m(\u001b[0m\u001b[0mself\u001b[0m\u001b[1;33m)\u001b[0m\u001b[1;33m\u001b[0m\u001b[1;33m\u001b[0m\u001b[0m\n",
      "\u001b[1;32md:\\anaconda3\\lib\\site-packages\\pandas\\io\\formats\\style.py\u001b[0m in \u001b[0;36m<module>\u001b[1;34m\u001b[0m\n\u001b[0;32m     42\u001b[0m \u001b[1;32mfrom\u001b[0m \u001b[0mpandas\u001b[0m\u001b[1;33m.\u001b[0m\u001b[0mio\u001b[0m\u001b[1;33m.\u001b[0m\u001b[0mformats\u001b[0m\u001b[1;33m.\u001b[0m\u001b[0mformat\u001b[0m \u001b[1;32mimport\u001b[0m \u001b[0msave_to_buffer\u001b[0m\u001b[1;33m\u001b[0m\u001b[1;33m\u001b[0m\u001b[0m\n\u001b[0;32m     43\u001b[0m \u001b[1;33m\u001b[0m\u001b[0m\n\u001b[1;32m---> 44\u001b[1;33m \u001b[0mjinja2\u001b[0m \u001b[1;33m=\u001b[0m \u001b[0mimport_optional_dependency\u001b[0m\u001b[1;33m(\u001b[0m\u001b[1;34m\"jinja2\"\u001b[0m\u001b[1;33m,\u001b[0m \u001b[0mextra\u001b[0m\u001b[1;33m=\u001b[0m\u001b[1;34m\"DataFrame.style requires jinja2.\"\u001b[0m\u001b[1;33m)\u001b[0m\u001b[1;33m\u001b[0m\u001b[1;33m\u001b[0m\u001b[0m\n\u001b[0m\u001b[0;32m     45\u001b[0m \u001b[1;33m\u001b[0m\u001b[0m\n\u001b[0;32m     46\u001b[0m from pandas.io.formats.style_render import (\n",
      "\u001b[1;32md:\\anaconda3\\lib\\site-packages\\pandas\\compat\\_optional.py\u001b[0m in \u001b[0;36mimport_optional_dependency\u001b[1;34m(name, extra, errors, min_version)\u001b[0m\n\u001b[0;32m    162\u001b[0m                 \u001b[1;32mreturn\u001b[0m \u001b[1;32mNone\u001b[0m\u001b[1;33m\u001b[0m\u001b[1;33m\u001b[0m\u001b[0m\n\u001b[0;32m    163\u001b[0m             \u001b[1;32melif\u001b[0m \u001b[0merrors\u001b[0m \u001b[1;33m==\u001b[0m \u001b[1;34m\"raise\"\u001b[0m\u001b[1;33m:\u001b[0m\u001b[1;33m\u001b[0m\u001b[1;33m\u001b[0m\u001b[0m\n\u001b[1;32m--> 164\u001b[1;33m                 \u001b[1;32mraise\u001b[0m \u001b[0mImportError\u001b[0m\u001b[1;33m(\u001b[0m\u001b[0mmsg\u001b[0m\u001b[1;33m)\u001b[0m\u001b[1;33m\u001b[0m\u001b[1;33m\u001b[0m\u001b[0m\n\u001b[0m\u001b[0;32m    165\u001b[0m             \u001b[1;32melse\u001b[0m\u001b[1;33m:\u001b[0m\u001b[1;33m\u001b[0m\u001b[1;33m\u001b[0m\u001b[0m\n\u001b[0;32m    166\u001b[0m                 \u001b[1;32mreturn\u001b[0m \u001b[1;32mNone\u001b[0m\u001b[1;33m\u001b[0m\u001b[1;33m\u001b[0m\u001b[0m\n",
      "\u001b[1;31mImportError\u001b[0m: Pandas requires version '3.1.2' or newer of 'jinja2' (version '2.11.3' currently installed)."
     ]
    }
   ],
   "source": [
    "dfSummary(X)"
   ]
  },
  {
   "cell_type": "code",
   "execution_count": null,
   "metadata": {},
   "outputs": [],
   "source": [
    "\n",
    "\n",
    "# get the model\n",
    "def get_model(n_inputs, n_outputs, num):\n",
    "\tif num == 0:\n",
    "\t\tlcl_model = Sequential()\n",
    "\t\tlcl_model.add(Dense(20, input_dim=n_inputs, kernel_initializer='he_uniform', activation='relu'))\n",
    "\t\tlcl_model.add(Dense(n_outputs))\n",
    "\t\tlcl_model.compile(loss='mae', optimizer='adam')\n",
    "\telif num == 1:\n",
    "\t\tlcl_model = Sequential()\n",
    "\t\tlcl_model.add(Dense(22, input_dim=n_inputs, kernel_initializer='he_uniform', activation='relu'))\n",
    "\t\tlcl_model.add(Dense(n_outputs))\n",
    "\t\tlcl_model.compile(loss='mae', optimizer='adam')\n",
    "\treturn lcl_model"
   ]
  },
  {
   "cell_type": "code",
   "execution_count": null,
   "metadata": {},
   "outputs": [],
   "source": [
    "! pip install ann_visualizer\n",
    "! pip install graphviz"
   ]
  },
  {
   "cell_type": "code",
   "execution_count": null,
   "metadata": {},
   "outputs": [],
   "source": [
    "# evaluate a model using repeated k-fold cross-validation\n",
    "def evaluate_model(X, y, model_num):\n",
    "\tresults = list()\n",
    "\tmodels = []\n",
    "\n",
    "\t# define evaluation procedure\n",
    "\tcv = RepeatedKFold(n_splits=10, n_repeats=3, random_state=1)\n",
    "\t# enumerate folds\n",
    "\tfor train_ix, test_ix in cv.split(X):\n",
    "\t\t# prepare data\n",
    "\t\tn_inputs, n_outputs = X.shape[1], y.shape[1]\n",
    "\t\tX_train, X_test = X[train_ix], X[test_ix]\n",
    "\t\ty_train, y_test = y[train_ix], y[test_ix]\n",
    "\n",
    "\t\t# define model\n",
    "\t\tmodel = get_model(n_inputs, n_outputs, model_num)\n",
    "\t\t# fit model\n",
    "\t\tmodel.fit(X_train, y_train, verbose=0, epochs=5)\n",
    "\t\t# evaluate model on test set\n",
    "\t\tmae = model.evaluate(X_test, y_test, verbose=0)\n",
    "\t\t# store result\n",
    "\t\t# print('model_num: %d metrics_names: %s mae>%.3f' % (model_num, model.metrics_names, mae))\n",
    "\t\tresults.append(mae)\n",
    "\t\tmodels.append(model)\n",
    "\treturn mean(results), models[0]\n",
    "\n",
    "\n",
    "\n"
   ]
  },
  {
   "cell_type": "code",
   "execution_count": null,
   "metadata": {},
   "outputs": [],
   "source": [
    "from ann_visualizer.visualize import ann_viz;\n",
    "\n",
    "\n",
    "# import os\n",
    "# current_directory = os.getcwd()\n",
    "# print(current_directory)\n",
    "\n",
    "# # Attempt to create a temporary file\n",
    "# try:\n",
    "#     with open('test_file.txt', 'w') as f:\n",
    "#         f.write('This is a test')\n",
    "#     os.remove('test_file.txt')\n",
    "#     print(\"The current folder is not read-only.\")\n",
    "# except Exception as e:\n",
    "#     print(\"The current folder is read-only.\")\n",
    "\n",
    "\n",
    "# import tempfile\n",
    "# tempfile.gettempdir()\n"
   ]
  },
  {
   "cell_type": "code",
   "execution_count": null,
   "metadata": {},
   "outputs": [],
   "source": [
    "# For each test case\n",
    "for test_case in range(3):\n",
    "\t# load dataset\n",
    "\tX, y = load_data(test_case)\n",
    "\n",
    "\t# Let's try each model\n",
    "\tbest_result = 0.0\n",
    "\tbest_model = None\n",
    "\tmodel_to_keep = 0\n",
    "\tfor curr_model in range(max_models):\n",
    "\t\t# evaluate model\n",
    "\t\tresult, model = evaluate_model(X, y, curr_model)\n",
    "\t\tres_lst.append(result)\n",
    "\t\tmodel_lst.append(model)\n",
    "\t\tif result > best_result:\n",
    "\t\t\tbest_result = result\n",
    "\t\t\tbest_model = model\n",
    "\t\t\tmodel_to_keep = curr_model\n",
    "\tfull_file_name = \"../pictures/{}{}\".format(test_case, model_to_keep)\n",
    "\t# graphViz package installed and path added to the PATH environment variable\n",
    "\tann_viz(model, title=\"\", view=False, filename=full_file_name);\n",
    "\t# print(\"Keeping %s\" % (full_file_name))\n",
    "\t# print(\"test_case: %d best_result: %.3f best_model %s\" % (test_case, best_result, best_model))"
   ]
  },
  {
   "cell_type": "code",
   "execution_count": null,
   "metadata": {},
   "outputs": [],
   "source": [
    "# make a prediction for new data\n",
    "row = [-0.99859353,2.19284309,-0.42632569,-0.21043258,-1.13655612,-0.55671602,-0.63169045,-0.87625098,-0.99445578,-0.3677487]\n",
    "newX = asarray([row])\n",
    "yhat = best_model.predict(newX)\n",
    "print('Predicted: %s' % yhat[0])"
   ]
  },
  {
   "cell_type": "code",
   "execution_count": null,
   "metadata": {},
   "outputs": [],
   "source": []
  }
 ],
 "metadata": {
  "kernelspec": {
   "display_name": "Python 3.9.7 ('base')",
   "language": "python",
   "name": "python3"
  },
  "language_info": {
   "codemirror_mode": {
    "name": "ipython",
    "version": 3
   },
   "file_extension": ".py",
   "mimetype": "text/x-python",
   "name": "python",
   "nbconvert_exporter": "python",
   "pygments_lexer": "ipython3",
   "version": "3.9.7"
  },
  "orig_nbformat": 4,
  "vscode": {
   "interpreter": {
    "hash": "49cb93f377a7abe7414b7b0f21fb3017538004a126cf690fb524202736b7fb92"
   }
  }
 },
 "nbformat": 4,
 "nbformat_minor": 2
}
