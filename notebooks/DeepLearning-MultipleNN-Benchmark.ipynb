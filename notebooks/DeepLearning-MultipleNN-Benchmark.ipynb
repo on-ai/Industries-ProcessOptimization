{
 "cells": [
  {
   "cell_type": "code",
   "execution_count": 1,
   "metadata": {},
   "outputs": [
    {
     "name": "stdout",
     "output_type": "stream",
     "text": [
      "DLModel\n"
     ]
    }
   ],
   "source": [
    "print(\"DLModel\")\n",
    "\n",
    "\n",
    "import pandas as pd\n",
    "from numpy import mean\n",
    "from numpy import std\n",
    "from numpy import asarray\n",
    "from sklearn.datasets import make_regression\n",
    "from sklearn.model_selection import RepeatedKFold\n",
    "from keras.models import Sequential\n",
    "from keras.layers import Dense\n",
    "\n",
    "max_models = 2\n",
    "res_lst = []\n",
    "model_lst = []\n"
   ]
  },
  {
   "cell_type": "code",
   "execution_count": 2,
   "metadata": {},
   "outputs": [],
   "source": [
    "pd.set_option('display.max_columns', 200)\n",
    "from IPython.core.interactiveshell import InteractiveShell\n",
    "InteractiveShell.ast_node_interactivity = \"all\""
   ]
  },
  {
   "cell_type": "code",
   "execution_count": null,
   "metadata": {},
   "outputs": [],
   "source": []
  },
  {
   "cell_type": "code",
   "execution_count": 3,
   "metadata": {},
   "outputs": [],
   "source": [
    "\n",
    "\n",
    "# get the dataset\n",
    "def load_data(how_many=0):\n",
    "\tif how_many == 0:\n",
    "\t\tsamples = 100\n",
    "\telif how_many == 1:\n",
    "\t\tsamples = 1000\n",
    "\telif how_many == 2:\n",
    "\t\tsamples = 5000\n",
    "\n",
    "\tX, y = make_regression(n_samples=samples, n_features=10, n_informative=5, n_targets=3, random_state=42)\n",
    "\tprint(\"samples: \", samples)\n",
    "\treturn X, y"
   ]
  },
  {
   "cell_type": "code",
   "execution_count": 4,
   "metadata": {},
   "outputs": [],
   "source": [
    "def load_random_data():\n",
    "    df = pd.read_csv('../data/random_data.csv')\n",
    "    df.describe()\n",
    "    X = df[[\"Var1\", \"Var2\", \"Var3\", \"Var4\", \"Var5\", \"Var6\"]]\n",
    "    y = df[[\"Var7\", \"Var8\", \"Var9\"]]\n",
    "    return X, y"
   ]
  },
  {
   "cell_type": "code",
   "execution_count": 5,
   "metadata": {},
   "outputs": [
    {
     "name": "stdout",
     "output_type": "stream",
     "text": [
      "            Var1       Var2       Var3       Var4       Var5       Var6\n",
      "0      44.983971  33.933642  27.750606  16.755403  12.846325  18.698162\n",
      "1      82.072771  53.940198  18.263558  12.617179  60.213736  36.162777\n",
      "2      73.802128  98.593598  11.908945  63.936180  40.649786  92.163184\n",
      "3      49.079078  66.976854  81.216915  86.776962  79.616895  87.328358\n",
      "4      82.973305  30.057045  26.142513  37.337483  85.298177  44.467624\n",
      "...          ...        ...        ...        ...        ...        ...\n",
      "49995  96.576127  83.218668  74.394776  91.983234  27.793881  45.727292\n",
      "49996  76.274775  84.413582  65.935641  42.844653  87.987294  45.051603\n",
      "49997  63.870936  94.921410  48.270378  10.509027  86.829932  65.622355\n",
      "49998  61.200710  69.917416  97.190127  22.265976  20.210938  12.279141\n",
      "49999  15.445123  16.654922  28.629873  61.661492  81.698829  65.645658\n",
      "\n",
      "[50000 rows x 6 columns]\n"
     ]
    }
   ],
   "source": [
    "X, y = load_random_data()\n",
    "print(X)\n"
   ]
  },
  {
   "cell_type": "code",
   "execution_count": 6,
   "metadata": {},
   "outputs": [],
   "source": [
    "\n",
    "\n",
    "# get the model\n",
    "def get_model(n_inputs, n_outputs, num):\n",
    "\tif num == 0:\n",
    "\t\tlcl_model = Sequential()\n",
    "\t\tlcl_model.add(Dense(20, input_dim=n_inputs, kernel_initializer='he_uniform', activation='relu'))\n",
    "\t\tlcl_model.add(Dense(n_outputs))\n",
    "\t\tlcl_model.compile(loss='mae', optimizer='adam')\n",
    "\telif num == 1:\n",
    "\t\tlcl_model = Sequential()\n",
    "\t\tlcl_model.add(Dense(22, input_dim=n_inputs, kernel_initializer='he_uniform', activation='relu'))\n",
    "\t\tlcl_model.add(Dense(n_outputs))\n",
    "\t\tlcl_model.compile(loss='mae', optimizer='adam')\n",
    "\treturn lcl_model"
   ]
  },
  {
   "cell_type": "code",
   "execution_count": 7,
   "metadata": {},
   "outputs": [],
   "source": [
    "# evaluate a model using repeated k-fold cross-validation\n",
    "def evaluate_model(X, y, model_num):\n",
    "\tresults = list()\n",
    "\tmodels = []\n",
    "\n",
    "\t# define evaluation procedure\n",
    "\tcv = RepeatedKFold(n_splits=10, n_repeats=3, random_state=1)\n",
    "\t# enumerate folds\n",
    "\tfor train_ix, test_ix in cv.split(X):\n",
    "\t\t# prepare data\n",
    "\t\tn_inputs, n_outputs = X.shape[1], y.shape[1]\n",
    "\t\tX_train, X_test = X[train_ix], X[test_ix]\n",
    "\t\ty_train, y_test = y[train_ix], y[test_ix]\n",
    "\n",
    "\t\t# define model\n",
    "\t\tmodel = get_model(n_inputs, n_outputs, model_num)\n",
    "\t\t# fit model\n",
    "\t\tmodel.fit(X_train, y_train, verbose=0, epochs=5)\n",
    "\t\t# evaluate model on test set\n",
    "\t\tmae = model.evaluate(X_test, y_test, verbose=0)\n",
    "\t\t# store result\n",
    "\t\t# print('model_num: %d metrics_names: %s mae>%.3f' % (model_num, model.metrics_names, mae))\n",
    "\t\tresults.append(mae)\n",
    "\t\tmodels.append(model)\n",
    "\treturn mean(results), models[0]\n",
    "\n",
    "\n",
    "\n"
   ]
  },
  {
   "cell_type": "code",
   "execution_count": null,
   "metadata": {},
   "outputs": [],
   "source": [
    "\n",
    "\n",
    "\n",
    "\n",
    "\n",
    "\n",
    "\n",
    "\n",
    "\n"
   ]
  },
  {
   "cell_type": "code",
   "execution_count": 8,
   "metadata": {},
   "outputs": [
    {
     "name": "stdout",
     "output_type": "stream",
     "text": [
      "samples:  1000\n",
      "Model Number: 0 metrics_names: ['loss'] Result: 82.210 Model address: <keras.engine.sequential.Sequential object at 0x00000261399399A0>\n",
      "Model Number: 1 metrics_names: ['loss'] Result: 82.115 Model address: <keras.engine.sequential.Sequential object at 0x0000026145FCDD60>\n",
      "best_result: 82.210 best_model <keras.engine.sequential.Sequential object at 0x00000261399399A0>\n",
      "samples:  5000\n",
      "Model Number: 0 metrics_names: ['loss'] Result: 92.642 Model address: <keras.engine.sequential.Sequential object at 0x000002615B201D90>\n",
      "Model Number: 1 metrics_names: ['loss'] Result: 91.241 Model address: <keras.engine.sequential.Sequential object at 0x0000026155A67640>\n",
      "best_result: 92.642 best_model <keras.engine.sequential.Sequential object at 0x000002615B201D90>\n",
      "samples:  10000\n",
      "Model Number: 0 metrics_names: ['loss'] Result: 49.517 Model address: <keras.engine.sequential.Sequential object at 0x0000026157D616A0>\n",
      "Model Number: 1 metrics_names: ['loss'] Result: 46.372 Model address: <keras.engine.sequential.Sequential object at 0x0000026160CA6FD0>\n",
      "best_result: 49.517 best_model <keras.engine.sequential.Sequential object at 0x0000026157D616A0>\n"
     ]
    }
   ],
   "source": [
    "# For each test case\n",
    "for test_case in range(3):\n",
    "\t# load dataset\n",
    "\tX, y = load_data(test_case)\n",
    "\n",
    "\t# Let's try each model\n",
    "\tbest_result = 0.0\n",
    "\tbest_model = None\n",
    "\tfor curr_model in range(max_models):\n",
    "\t\t# evaluate model\n",
    "\t\tresult, model = evaluate_model(X, y, curr_model)\n",
    "\t\tres_lst.append(result)\n",
    "\t\tmodel_lst.append(model)\n",
    "\t\tprint('Model Number: %d metrics_names: %s Result: %.3f Model address: %s' % (curr_model, model.metrics_names, result, model))\n",
    "\t\tif result > best_result:\n",
    "\t\t\tbest_result = result\n",
    "\t\t\tbest_model = model\n",
    "\n",
    "\n",
    "\tprint(\"best_result: %.3f best_model %s\" % (best_result, best_model))"
   ]
  },
  {
   "cell_type": "code",
   "execution_count": 10,
   "metadata": {},
   "outputs": [
    {
     "name": "stdout",
     "output_type": "stream",
     "text": [
      "1/1 [==============================] - 0s 42ms/step\n",
      "Predicted: [-17.384346 -50.32769   24.73497 ]\n"
     ]
    }
   ],
   "source": [
    "# make a prediction for new data\n",
    "row = [-0.99859353,2.19284309,-0.42632569,-0.21043258,-1.13655612,-0.55671602,-0.63169045,-0.87625098,-0.99445578,-0.3677487]\n",
    "newX = asarray([row])\n",
    "yhat = best_model.predict(newX)\n",
    "print('Predicted: %s' % yhat[0])"
   ]
  },
  {
   "cell_type": "code",
   "execution_count": null,
   "metadata": {},
   "outputs": [],
   "source": []
  }
 ],
 "metadata": {
  "kernelspec": {
   "display_name": "Python 3.9.7 ('base')",
   "language": "python",
   "name": "python3"
  },
  "language_info": {
   "codemirror_mode": {
    "name": "ipython",
    "version": 3
   },
   "file_extension": ".py",
   "mimetype": "text/x-python",
   "name": "python",
   "nbconvert_exporter": "python",
   "pygments_lexer": "ipython3",
   "version": "3.9.7"
  },
  "orig_nbformat": 4,
  "vscode": {
   "interpreter": {
    "hash": "49cb93f377a7abe7414b7b0f21fb3017538004a126cf690fb524202736b7fb92"
   }
  }
 },
 "nbformat": 4,
 "nbformat_minor": 2
}
