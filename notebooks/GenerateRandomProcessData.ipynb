{
 "cells": [
  {
   "cell_type": "markdown",
   "metadata": {},
   "source": [
    "Let's build our dictionary"
   ]
  },
  {
   "cell_type": "code",
   "execution_count": 117,
   "metadata": {},
   "outputs": [],
   "source": [
    "import warnings\n",
    "warnings.filterwarnings('ignore')\n",
    "from IPython.core.interactiveshell import InteractiveShell\n",
    "InteractiveShell.ast_node_interactivity = \"all\"\n",
    "pd.options.display.max_columns = 100"
   ]
  },
  {
   "cell_type": "code",
   "execution_count": 118,
   "metadata": {},
   "outputs": [],
   "source": [
    "import pandas as pd"
   ]
  },
  {
   "cell_type": "code",
   "execution_count": 119,
   "metadata": {},
   "outputs": [],
   "source": [
    "n_samples = 1000\n",
    "n_features = 9\n",
    "n_informative = 6\n",
    "n_targets = 3\n",
    "\n",
    "# Units are kilogram, second, Pa, Deg Celsius, Litre\n",
    "ios = {\n",
    "    'Var1': {'io': 0, 'name': 'input1', 'min': 10, 'max':100, 'dir':'asc', 'unit':'kg'},\n",
    "    'Var2': {'io': 0, 'name': 'input2', 'min': 10, 'max':100, 'dir':'asc', 'unit':'s'},\n",
    "    'Var3': {'io': 0, 'name': 'input3', 'min': 10, 'max':100, 'dir':'asc', 'unit':'Pa'},\n",
    "    'Var4': {'io': 0, 'name': 'input4', 'min': 10, 'max':100, 'dir':'des', 'unit':'l'},\n",
    "    'Var5': {'io': 0, 'name': 'input5', 'min': 10, 'max':100, 'dir':'des', 'unit':'C'},\n",
    "    'Var6': {'io': 0, 'name': 'input6', 'min': 10, 'max':100, 'dir':'des', 'unit':'l'},\n",
    "    'Var7': {'io': 1, 'name': 'output1', 'min': 1, 'max':10, 'dir':'asc', 'unit':'C'},\n",
    "    'Var8': {'io': 1, 'name': 'output2', 'min': 1, 'max':10, 'dir':'des', 'unit':'l'},\n",
    "    'Var9': {'io': 1, 'name': 'output3', 'min': 1, 'max':10, 'dir':'asc', 'unit':'psi'}\n",
    "}\n"
   ]
  },
  {
   "cell_type": "markdown",
   "metadata": {},
   "source": []
  },
  {
   "cell_type": "code",
   "execution_count": 184,
   "metadata": {},
   "outputs": [],
   "source": [
    "def GenerateData (dic, n_features, n_samples=5):\n",
    "    import pandas as pd\n",
    "    import numpy as np\n",
    "    my_dic = {}\n",
    "    def ScaleSerie (s, min_val, max_val):\n",
    "        scaled_s = (s - s.min())/(s.max() - s.min())*(max_val - min_val) + min_val\n",
    "        return scaled_s\n",
    "    df_dic = pd.DataFrame(dic).transpose()\n",
    "    for indice, field in df_dic.iterrows():\n",
    "        my_dic[indice] = ScaleSerie(np.random.rand(n_samples), field[2], field[3])\n",
    "    return pd.DataFrame(my_dic)"
   ]
  },
  {
   "cell_type": "code",
   "execution_count": 185,
   "metadata": {},
   "outputs": [
    {
     "name": "stdout",
     "output_type": "stream",
     "text": [
      "Índice: Var1, 0, input1, 10, 100\n",
      "Índice: Var2, 0, input2, 10, 100\n",
      "Índice: Var3, 0, input3, 10, 100\n",
      "Índice: Var4, 0, input4, 10, 100\n",
      "Índice: Var5, 0, input5, 10, 100\n",
      "Índice: Var6, 0, input6, 10, 100\n",
      "Índice: Var7, 1, output1, 1, 10\n",
      "Índice: Var8, 1, output2, 1, 10\n",
      "Índice: Var9, 1, output3, 1, 10\n",
      "         Var1        Var2        Var3        Var4        Var5        Var6  \\\n",
      "0   10.000000   89.345478   13.494731   91.094189  100.000000  100.000000   \n",
      "1   54.792924   10.000000   76.245487   93.411942   10.000000   99.090892   \n",
      "2   62.840709  100.000000   10.000000   10.000000   69.077777   75.729979   \n",
      "3   86.917856   26.624633  100.000000  100.000000   50.075498   92.624732   \n",
      "4  100.000000   73.776026   32.251686   72.797152   45.825601   10.000000   \n",
      "\n",
      "        Var7       Var8       Var9  \n",
      "0   6.496370   9.691673  10.000000  \n",
      "1   1.881930   6.576036   2.297757  \n",
      "2   7.988441   1.000000   1.000000  \n",
      "3  10.000000   3.558142   7.961612  \n",
      "4   1.000000  10.000000   4.684870  \n"
     ]
    }
   ],
   "source": [
    "df_dic = GenerateData(ios, 9,5)\n",
    "print(df_dic)"
   ]
  },
  {
   "cell_type": "code",
   "execution_count": null,
   "metadata": {},
   "outputs": [],
   "source": []
  }
 ],
 "metadata": {
  "interpreter": {
   "hash": "49cb93f377a7abe7414b7b0f21fb3017538004a126cf690fb524202736b7fb92"
  },
  "kernelspec": {
   "display_name": "Python 3.9.7 ('base')",
   "language": "python",
   "name": "python3"
  },
  "language_info": {
   "codemirror_mode": {
    "name": "ipython",
    "version": 3
   },
   "file_extension": ".py",
   "mimetype": "text/x-python",
   "name": "python",
   "nbconvert_exporter": "python",
   "pygments_lexer": "ipython3",
   "version": "3.9.7"
  },
  "orig_nbformat": 4
 },
 "nbformat": 4,
 "nbformat_minor": 2
}
