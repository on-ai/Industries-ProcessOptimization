{
 "cells": [
  {
   "cell_type": "markdown",
   "metadata": {},
   "source": [
    "Let's build our dictionary"
   ]
  },
  {
   "cell_type": "code",
   "execution_count": 201,
   "metadata": {},
   "outputs": [],
   "source": [
    "import warnings\n",
    "warnings.filterwarnings('ignore')\n",
    "from IPython.core.interactiveshell import InteractiveShell\n",
    "InteractiveShell.ast_node_interactivity = \"all\"\n",
    "pd.options.display.max_columns = 100"
   ]
  },
  {
   "cell_type": "code",
   "execution_count": 202,
   "metadata": {},
   "outputs": [],
   "source": [
    "import pandas as pd"
   ]
  },
  {
   "cell_type": "code",
   "execution_count": 203,
   "metadata": {},
   "outputs": [],
   "source": [
    "n_samples = 1000\n",
    "n_features = 9\n",
    "n_informative = 6\n",
    "n_targets = 3\n",
    "\n",
    "# Units are kilogram, second, Pa, Deg Celsius, Litre\n",
    "ios = {\n",
    "    'Var1': {'io': 0, 'name': 'input1', 'min': 10, 'max':100, 'dir':'asc', 'unit':'kg'},\n",
    "    'Var2': {'io': 0, 'name': 'input2', 'min': 10, 'max':100, 'dir':'asc', 'unit':'s'},\n",
    "    'Var3': {'io': 0, 'name': 'input3', 'min': 10, 'max':100, 'dir':'asc', 'unit':'Pa'},\n",
    "    'Var4': {'io': 0, 'name': 'input4', 'min': 10, 'max':100, 'dir':'des', 'unit':'l'},\n",
    "    'Var5': {'io': 0, 'name': 'input5', 'min': 10, 'max':100, 'dir':'des', 'unit':'C'},\n",
    "    'Var6': {'io': 0, 'name': 'input6', 'min': 10, 'max':100, 'dir':'des', 'unit':'l'},\n",
    "    'Var7': {'io': 1, 'name': 'output1', 'min': 1, 'max':10, 'dir':'asc', 'unit':'C'},\n",
    "    'Var8': {'io': 1, 'name': 'output2', 'min': 1, 'max':10, 'dir':'des', 'unit':'l'},\n",
    "    'Var9': {'io': 1, 'name': 'output3', 'min': 1, 'max':10, 'dir':'asc', 'unit':'psi'}\n",
    "}\n"
   ]
  },
  {
   "cell_type": "markdown",
   "metadata": {},
   "source": []
  },
  {
   "cell_type": "code",
   "execution_count": 204,
   "metadata": {},
   "outputs": [],
   "source": [
    "def GenerateData (dic, n_features, n_samples=5):\n",
    "    import pandas as pd\n",
    "    import numpy as np\n",
    "    my_dic = {}\n",
    "    def ScaleSerie (s, min_val, max_val):\n",
    "        scaled_s = (s - s.min())/(s.max() - s.min())*(max_val - min_val) + min_val\n",
    "        return scaled_s\n",
    "    df_dic = pd.DataFrame(dic).transpose()\n",
    "    for indice, field in df_dic.iterrows():\n",
    "        my_dic[indice] = ScaleSerie(np.random.rand(n_samples), field[2], field[3])\n",
    "    return pd.DataFrame(my_dic)"
   ]
  },
  {
   "cell_type": "code",
   "execution_count": 205,
   "metadata": {},
   "outputs": [
    {
     "name": "stdout",
     "output_type": "stream",
     "text": [
      "         Var1        Var2        Var3        Var4        Var5        Var6  \\\n",
      "0   99.606329   29.403791   76.122569   91.302955   87.841581   10.000000   \n",
      "1  100.000000  100.000000  100.000000   33.834067   96.517967  100.000000   \n",
      "2   10.000000   10.000000   10.000000  100.000000  100.000000   19.986753   \n",
      "3   97.180292   60.244788   91.977452   21.421951   10.000000   19.060003   \n",
      "4   70.951004   36.577715   16.447815   10.000000   15.652284   18.252892   \n",
      "\n",
      "        Var7       Var8       Var9  \n",
      "0   4.863345  10.000000   6.353408  \n",
      "1  10.000000   7.216442   4.385580  \n",
      "2   1.000000   1.000000  10.000000  \n",
      "3   6.421992   2.321451   1.000000  \n",
      "4   6.150178   5.003524   9.993004  \n"
     ]
    }
   ],
   "source": [
    "df_dic = GenerateData(ios, 9,50000)\n",
    "print(df_dic)"
   ]
  },
  {
   "cell_type": "code",
   "execution_count": 207,
   "metadata": {},
   "outputs": [],
   "source": [
    "# Save data\n",
    "df_dic.to_csv('../data/random_data.csv')"
   ]
  }
 ],
 "metadata": {
  "interpreter": {
   "hash": "49cb93f377a7abe7414b7b0f21fb3017538004a126cf690fb524202736b7fb92"
  },
  "kernelspec": {
   "display_name": "Python 3.9.7 ('base')",
   "language": "python",
   "name": "python3"
  },
  "language_info": {
   "codemirror_mode": {
    "name": "ipython",
    "version": 3
   },
   "file_extension": ".py",
   "mimetype": "text/x-python",
   "name": "python",
   "nbconvert_exporter": "python",
   "pygments_lexer": "ipython3",
   "version": "3.9.7"
  },
  "orig_nbformat": 4
 },
 "nbformat": 4,
 "nbformat_minor": 2
}
