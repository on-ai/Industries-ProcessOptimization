{
 "cells": [
  {
   "cell_type": "markdown",
   "metadata": {},
   "source": [
    "Let's build our dictionary"
   ]
  },
  {
   "cell_type": "code",
   "execution_count": 208,
   "metadata": {},
   "outputs": [],
   "source": [
    "import warnings\n",
    "warnings.filterwarnings('ignore')\n",
    "from IPython.core.interactiveshell import InteractiveShell\n",
    "InteractiveShell.ast_node_interactivity = \"all\"\n",
    "pd.options.display.max_columns = 100"
   ]
  },
  {
   "cell_type": "code",
   "execution_count": 209,
   "metadata": {},
   "outputs": [],
   "source": [
    "import pandas as pd"
   ]
  },
  {
   "cell_type": "code",
   "execution_count": 210,
   "metadata": {},
   "outputs": [],
   "source": [
    "n_samples = 1000\n",
    "n_features = 9\n",
    "n_informative = 6\n",
    "n_targets = 3\n",
    "\n",
    "# Units are kilogram, second, Pa, Deg Celsius, Litre\n",
    "ios = {\n",
    "    'Var1': {'io': 0, 'name': 'input1', 'min': 10, 'max':100, 'dir':'asc', 'unit':'kg'},\n",
    "    'Var2': {'io': 0, 'name': 'input2', 'min': 10, 'max':100, 'dir':'asc', 'unit':'s'},\n",
    "    'Var3': {'io': 0, 'name': 'input3', 'min': 10, 'max':100, 'dir':'asc', 'unit':'Pa'},\n",
    "    'Var4': {'io': 0, 'name': 'input4', 'min': 10, 'max':100, 'dir':'des', 'unit':'l'},\n",
    "    'Var5': {'io': 0, 'name': 'input5', 'min': 10, 'max':100, 'dir':'des', 'unit':'C'},\n",
    "    'Var6': {'io': 0, 'name': 'input6', 'min': 10, 'max':100, 'dir':'des', 'unit':'l'},\n",
    "    'Var7': {'io': 1, 'name': 'output1', 'min': 1, 'max':10, 'dir':'asc', 'unit':'C'},\n",
    "    'Var8': {'io': 1, 'name': 'output2', 'min': 1, 'max':10, 'dir':'des', 'unit':'l'},\n",
    "    'Var9': {'io': 1, 'name': 'output3', 'min': 1, 'max':10, 'dir':'asc', 'unit':'psi'}\n",
    "}\n"
   ]
  },
  {
   "cell_type": "markdown",
   "metadata": {},
   "source": []
  },
  {
   "cell_type": "code",
   "execution_count": 211,
   "metadata": {},
   "outputs": [],
   "source": [
    "def GenerateData (dic, n_features, n_samples=5):\n",
    "    import pandas as pd\n",
    "    import numpy as np\n",
    "    my_dic = {}\n",
    "    def ScaleSerie (s, min_val, max_val):\n",
    "        scaled_s = (s - s.min())/(s.max() - s.min())*(max_val - min_val) + min_val\n",
    "        return scaled_s\n",
    "    df_dic = pd.DataFrame(dic).transpose()\n",
    "    for indice, field in df_dic.iterrows():\n",
    "        my_dic[indice] = ScaleSerie(np.random.rand(n_samples), field[2], field[3])\n",
    "    return pd.DataFrame(my_dic)"
   ]
  },
  {
   "cell_type": "code",
   "execution_count": 212,
   "metadata": {},
   "outputs": [
    {
     "name": "stdout",
     "output_type": "stream",
     "text": [
      "            Var1       Var2       Var3       Var4       Var5       Var6  \\\n",
      "0      44.983971  33.933642  27.750606  16.755403  12.846325  18.698162   \n",
      "1      82.072771  53.940198  18.263558  12.617179  60.213736  36.162777   \n",
      "2      73.802128  98.593598  11.908945  63.936180  40.649786  92.163184   \n",
      "3      49.079078  66.976854  81.216915  86.776962  79.616895  87.328358   \n",
      "4      82.973305  30.057045  26.142513  37.337483  85.298177  44.467624   \n",
      "...          ...        ...        ...        ...        ...        ...   \n",
      "49995  96.576127  83.218668  74.394776  91.983234  27.793881  45.727292   \n",
      "49996  76.274775  84.413582  65.935641  42.844653  87.987294  45.051603   \n",
      "49997  63.870936  94.921410  48.270378  10.509027  86.829932  65.622355   \n",
      "49998  61.200710  69.917416  97.190127  22.265976  20.210938  12.279141   \n",
      "49999  15.445123  16.654922  28.629873  61.661492  81.698829  65.645658   \n",
      "\n",
      "           Var7      Var8      Var9  \n",
      "0      2.596442  3.645361  1.238596  \n",
      "1      7.924676  9.210614  1.609886  \n",
      "2      8.852460  6.758630  9.196893  \n",
      "3      8.278638  3.091350  8.980583  \n",
      "4      4.143978  8.838074  3.564145  \n",
      "...         ...       ...       ...  \n",
      "49995  3.620316  9.251163  1.098557  \n",
      "49996  1.794474  2.323849  5.729353  \n",
      "49997  7.265986  2.800049  7.904458  \n",
      "49998  6.740009  8.547877  8.045865  \n",
      "49999  7.964498  9.043451  7.878167  \n",
      "\n",
      "[50000 rows x 9 columns]\n"
     ]
    }
   ],
   "source": [
    "df_dic = GenerateData(ios, 9,50000)\n",
    "print(df_dic)"
   ]
  },
  {
   "cell_type": "code",
   "execution_count": 213,
   "metadata": {},
   "outputs": [],
   "source": [
    "# Save data\n",
    "df_dic.to_csv('../data/random_data.csv')"
   ]
  }
 ],
 "metadata": {
  "interpreter": {
   "hash": "49cb93f377a7abe7414b7b0f21fb3017538004a126cf690fb524202736b7fb92"
  },
  "kernelspec": {
   "display_name": "Python 3.9.7 ('base')",
   "language": "python",
   "name": "python3"
  },
  "language_info": {
   "codemirror_mode": {
    "name": "ipython",
    "version": 3
   },
   "file_extension": ".py",
   "mimetype": "text/x-python",
   "name": "python",
   "nbconvert_exporter": "python",
   "pygments_lexer": "ipython3",
   "version": "3.9.7"
  },
  "orig_nbformat": 4
 },
 "nbformat": 4,
 "nbformat_minor": 2
}
