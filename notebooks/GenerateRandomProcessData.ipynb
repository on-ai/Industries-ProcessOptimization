{
 "cells": [
  {
   "cell_type": "markdown",
   "metadata": {},
   "source": [
    "Let's build our dictionary"
   ]
  },
  {
   "cell_type": "code",
   "execution_count": 26,
   "metadata": {},
   "outputs": [],
   "source": [
    "import warnings\n",
    "warnings.filterwarnings('ignore')\n",
    "from IPython.core.interactiveshell import InteractiveShell\n",
    "InteractiveShell.ast_node_interactivity = \"all\"\n"
   ]
  },
  {
   "cell_type": "code",
   "execution_count": 27,
   "metadata": {},
   "outputs": [],
   "source": [
    "import pandas as pd\n",
    "pd.options.display.max_columns = 100"
   ]
  },
  {
   "cell_type": "code",
   "execution_count": 28,
   "metadata": {},
   "outputs": [],
   "source": [
    "n_samples = 1000\n",
    "n_features = 9\n",
    "n_informative = 6\n",
    "n_targets = 3\n",
    "\n",
    "# Units are kilogram, second, Pa, Deg Celsius, Litre\n",
    "ios = {\n",
    "    'Pressure1 Pa': {'io': 0, 'name': 'input1', 'min': 10, 'max':100, 'dir':'asc', 'unit':'kg'},\n",
    "    'Temp1 F': {'io': 0, 'name': 'input2', 'min': 10, 'max':100, 'dir':'asc', 'unit':'s'},\n",
    "    'Volume CHl ml': {'io': 0, 'name': 'input3', 'min': 10, 'max':100, 'dir':'asc', 'unit':'Pa'},\n",
    "    'Volume H': {'io': 0, 'name': 'input4', 'min': 10, 'max':100, 'dir':'des', 'unit':'l'},\n",
    "    'Temp2 F Pa': {'io': 0, 'name': 'input5', 'min': 10, 'max':100, 'dir':'des', 'unit':'C'},\n",
    "    'NA': {'io': 0, 'name': 'input6', 'min': 10, 'max':100, 'dir':'des', 'unit':'l'},\n",
    "    'H2O ml': {'io': 1, 'name': 'output1', 'min': 1, 'max':10, 'dir':'asc', 'unit':'C'},\n",
    "    'Pressure Pa': {'io': 1, 'name': 'output2', 'min': 1, 'max':10, 'dir':'des', 'unit':'l'},\n",
    "    'Temp3 F': {'io': 1, 'name': 'output3', 'min': 1, 'max':10, 'dir':'asc', 'unit':'psi'}\n",
    "}\n"
   ]
  },
  {
   "cell_type": "markdown",
   "metadata": {},
   "source": []
  },
  {
   "cell_type": "code",
   "execution_count": 29,
   "metadata": {},
   "outputs": [],
   "source": [
    "def GenerateData (dic, n_features, n_samples=5):\n",
    "    import pandas as pd\n",
    "    import numpy as np\n",
    "    my_dic = {}\n",
    "    def ScaleSerie (s, min_val, max_val):\n",
    "        scaled_s = (s - s.min())/(s.max() - s.min())*(max_val - min_val) + min_val\n",
    "        return scaled_s\n",
    "    df_dic = pd.DataFrame(dic).transpose()\n",
    "    for indice, field in df_dic.iterrows():\n",
    "        my_dic[indice] = ScaleSerie(np.random.rand(n_samples), field[2], field[3])\n",
    "    return pd.DataFrame(my_dic)"
   ]
  },
  {
   "cell_type": "code",
   "execution_count": 30,
   "metadata": {},
   "outputs": [
    {
     "name": "stdout",
     "output_type": "stream",
     "text": [
      "       Pressure1 Pa    Temp1 F  Volume CHl ml   Volume H  Temp2 F Pa  \\\n",
      "0         73.077830  34.224655      84.308435  61.983387   12.036973   \n",
      "1         11.338033  97.758490      73.225387  51.454530   69.023203   \n",
      "2         25.994594  99.560450      66.358837  82.592585   69.666790   \n",
      "3         12.453053  28.973881      69.537515  33.031449   68.481706   \n",
      "4         87.800867  83.998362      45.426893  70.599852   18.400842   \n",
      "...             ...        ...            ...        ...         ...   \n",
      "49995     77.616531  63.097854      16.305368  30.176858   82.825880   \n",
      "49996     43.417975  60.233647      62.880438  95.966971   68.318086   \n",
      "49997     35.146227  88.082098      84.602457  81.265939   66.832875   \n",
      "49998     61.615018  30.430248      45.923505  70.462001   33.009609   \n",
      "49999     26.706485  84.162516      64.888393  94.258910   27.206850   \n",
      "\n",
      "              NA    H2O ml  Pressure Pa   Temp3 F  \n",
      "0      54.983003  3.899477     9.082264  3.889279  \n",
      "1      30.474774  9.189909     6.279403  9.424272  \n",
      "2      87.826107  9.225371     2.819413  8.036978  \n",
      "3      26.027410  4.071437     7.227316  8.633614  \n",
      "4      42.688463  5.244218     5.209055  8.667823  \n",
      "...          ...       ...          ...       ...  \n",
      "49995  72.404681  8.231535     9.807808  4.314231  \n",
      "49996  77.101558  2.568906     5.711531  6.838245  \n",
      "49997  62.579818  9.554895     6.041339  1.368289  \n",
      "49998  14.483693  1.303327     1.024306  6.931451  \n",
      "49999  46.018778  3.058899     5.430126  9.325075  \n",
      "\n",
      "[50000 rows x 9 columns]\n"
     ]
    }
   ],
   "source": [
    "df_dic = GenerateData(ios, 9,50000)\n",
    "print(df_dic)"
   ]
  },
  {
   "cell_type": "code",
   "execution_count": 31,
   "metadata": {},
   "outputs": [],
   "source": [
    "# Save data\n",
    "df_dic.to_csv('../data/random_data.csv')\n",
    "df_dic.to_excel('../data/random_data.xlsx', index=False)"
   ]
  }
 ],
 "metadata": {
  "interpreter": {
   "hash": "49cb93f377a7abe7414b7b0f21fb3017538004a126cf690fb524202736b7fb92"
  },
  "kernelspec": {
   "display_name": "Python 3.9.7 ('base')",
   "language": "python",
   "name": "python3"
  },
  "language_info": {
   "codemirror_mode": {
    "name": "ipython",
    "version": 3
   },
   "file_extension": ".py",
   "mimetype": "text/x-python",
   "name": "python",
   "nbconvert_exporter": "python",
   "pygments_lexer": "ipython3",
   "version": "3.9.7"
  },
  "orig_nbformat": 4
 },
 "nbformat": 4,
 "nbformat_minor": 2
}
