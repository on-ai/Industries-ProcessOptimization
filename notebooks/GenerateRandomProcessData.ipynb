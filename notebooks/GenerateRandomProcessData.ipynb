{
 "cells": [
  {
   "cell_type": "markdown",
   "metadata": {},
   "source": [
    "Let's build our dictionary"
   ]
  },
  {
   "cell_type": "code",
   "execution_count": 33,
   "metadata": {},
   "outputs": [],
   "source": [
    "import warnings\n",
    "warnings.filterwarnings('ignore')\n",
    "from IPython.core.interactiveshell import InteractiveShell\n",
    "InteractiveShell.ast_node_interactivity = \"all\"\n"
   ]
  },
  {
   "cell_type": "code",
   "execution_count": 34,
   "metadata": {},
   "outputs": [],
   "source": [
    "import pandas as pd\n",
    "pd.options.display.max_columns = 100"
   ]
  },
  {
   "cell_type": "code",
   "execution_count": 35,
   "metadata": {},
   "outputs": [],
   "source": [
    "n_samples = 1000\n",
    "n_features = 9\n",
    "n_informative = 6\n",
    "n_targets = 3\n",
    "\n",
    "# Units are kilogram, second, Pa, Deg Celsius, Litre\n",
    "ios = {\n",
    "    'Pressure1 Pa': {'io': 0, 'name': 'input1', 'min': 10, 'max':100, 'dir':'asc', 'unit':'kg'},\n",
    "    'Temp1 F': {'io': 0, 'name': 'input2', 'min': 10, 'max':100, 'dir':'asc', 'unit':'s'},\n",
    "    'Volume CHl ml': {'io': 0, 'name': 'input3', 'min': 10, 'max':100, 'dir':'asc', 'unit':'Pa'},\n",
    "    'Volume H': {'io': 0, 'name': 'input4', 'min': 10, 'max':100, 'dir':'des', 'unit':'l'},\n",
    "    'Temp2 F Pa': {'io': 0, 'name': 'input5', 'min': 10, 'max':100, 'dir':'des', 'unit':'C'},\n",
    "    'NA': {'io': 0, 'name': 'input6', 'min': 10, 'max':100, 'dir':'des', 'unit':'l'},\n",
    "    'H2O ml': {'io': 1, 'name': 'output1', 'min': 1, 'max':10, 'dir':'asc', 'unit':'C'},\n",
    "    'Pressure Pa': {'io': 1, 'name': 'output2', 'min': 1, 'max':10, 'dir':'des', 'unit':'l'},\n",
    "    'Temp3 F': {'io': 1, 'name': 'output3', 'min': 1, 'max':10, 'dir':'asc', 'unit':'psi'}\n",
    "}\n"
   ]
  },
  {
   "cell_type": "markdown",
   "metadata": {},
   "source": []
  },
  {
   "cell_type": "code",
   "execution_count": 36,
   "metadata": {},
   "outputs": [],
   "source": [
    "def GenerateData (dic, n_features, n_samples=5):\n",
    "    import pandas as pd\n",
    "    import numpy as np\n",
    "    my_dic = {}\n",
    "    def ScaleSerie (s, min_val, max_val):\n",
    "        scaled_s = (s - s.min())/(s.max() - s.min())*(max_val - min_val) + min_val\n",
    "        return scaled_s\n",
    "    df_dic = pd.DataFrame(dic).transpose()\n",
    "    for indice, field in df_dic.iterrows():\n",
    "        my_dic[indice] = ScaleSerie(np.random.rand(n_samples), field[2], field[3])\n",
    "    return pd.DataFrame(my_dic)"
   ]
  },
  {
   "cell_type": "code",
   "execution_count": 37,
   "metadata": {},
   "outputs": [
    {
     "name": "stdout",
     "output_type": "stream",
     "text": [
      "       Pressure1 Pa    Temp1 F  Volume CHl ml   Volume H  Temp2 F Pa  \\\n",
      "0         91.087434  39.864819      94.533831  23.519002   15.557122   \n",
      "1         26.755208  41.457707      86.098518  69.401762   56.662135   \n",
      "2         65.928750  72.663652      90.846095  53.697473   15.908884   \n",
      "3         80.638414  99.958049      54.226406  35.600008   17.925490   \n",
      "4         63.690542  12.389213      14.569177  54.763162   62.684269   \n",
      "...             ...        ...            ...        ...         ...   \n",
      "49995     54.323483  83.156088      90.817702  42.445582   49.467169   \n",
      "49996     10.659372  92.898381      39.085339  93.693232   40.440018   \n",
      "49997     75.212513  23.070750      75.647151  93.091665   73.423704   \n",
      "49998     60.275092  45.970639      29.280295  48.306086   50.572172   \n",
      "49999     71.339273  24.745848      30.504205  73.775459   77.697171   \n",
      "\n",
      "              NA    H2O ml  Pressure Pa   Temp3 F  \n",
      "0      43.935737  3.340117     5.853064  3.433108  \n",
      "1      95.901093  5.993388     8.544004  2.305539  \n",
      "2      95.309811  4.949841     6.529334  6.724133  \n",
      "3      97.182250  2.231451     3.349111  8.847641  \n",
      "4      73.742890  4.947525     8.558176  1.929339  \n",
      "...          ...       ...          ...       ...  \n",
      "49995  50.106831  2.015702     4.434403  9.052361  \n",
      "49996  71.359043  8.686342     2.357713  6.578781  \n",
      "49997  16.066003  7.678901     5.823077  2.364424  \n",
      "49998  33.076289  4.859427     9.223184  2.965584  \n",
      "49999  78.159745  4.668038     7.012069  6.656641  \n",
      "\n",
      "[50000 rows x 9 columns]\n"
     ]
    }
   ],
   "source": [
    "df_dic = GenerateData(ios, 9,50000)\n",
    "print(df_dic)"
   ]
  },
  {
   "cell_type": "code",
   "execution_count": 38,
   "metadata": {},
   "outputs": [],
   "source": [
    "# Save data\n",
    "df_dic.to_csv('../data/random_data.csv')\n",
    "df_dic.to_excel('../data/random_data.xlsx', index=False)"
   ]
  }
 ],
 "metadata": {
  "interpreter": {
   "hash": "49cb93f377a7abe7414b7b0f21fb3017538004a126cf690fb524202736b7fb92"
  },
  "kernelspec": {
   "display_name": "Python 3.9.7 ('base')",
   "language": "python",
   "name": "python3"
  },
  "language_info": {
   "codemirror_mode": {
    "name": "ipython",
    "version": 3
   },
   "file_extension": ".py",
   "mimetype": "text/x-python",
   "name": "python",
   "nbconvert_exporter": "python",
   "pygments_lexer": "ipython3",
   "version": "3.9.7"
  },
  "orig_nbformat": 4
 },
 "nbformat": 4,
 "nbformat_minor": 2
}
